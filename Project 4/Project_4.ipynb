{
  "nbformat": 4,
  "nbformat_minor": 0,
  "metadata": {
    "colab": {
      "name": "Project 4.ipynb",
      "provenance": []
    },
    "kernelspec": {
      "name": "python3",
      "display_name": "Python 3"
    },
    "language_info": {
      "name": "python"
    }
  },
  "cells": [
    {
      "cell_type": "markdown",
      "metadata": {
        "id": "4eTF_3WU_VVl"
      },
      "source": [
        "# 1. Stock market"
      ]
    },
    {
      "cell_type": "markdown",
      "metadata": {
        "id": "0642tPsl_cSG"
      },
      "source": [
        "##1. Return correlation"
      ]
    },
    {
      "cell_type": "markdown",
      "metadata": {
        "id": "sFuyJlJI_X83"
      },
      "source": [
        "#2. Let’s Help Santa!"
      ]
    },
    {
      "cell_type": "markdown",
      "metadata": {
        "id": "gWdF84-Y_kDn"
      },
      "source": [
        "##2. Build Your Graph"
      ]
    }
  ]
}